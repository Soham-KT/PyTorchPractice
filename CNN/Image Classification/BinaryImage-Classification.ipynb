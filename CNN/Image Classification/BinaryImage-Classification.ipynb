{
 "cells": [
  {
   "cell_type": "code",
   "execution_count": 1,
   "metadata": {},
   "outputs": [
    {
     "data": {
      "text/plain": [
       "'/home/shanks/data-science/PyTorchPractice/CNN/Image Classification'"
      ]
     },
     "execution_count": 1,
     "metadata": {},
     "output_type": "execute_result"
    }
   ],
   "source": [
    "import torch\n",
    "import torchvision\n",
    "import torchvision.transforms as transforms\n",
    "import torch.nn as nn\n",
    "import torch.nn.functional as F\n",
    "import os\n",
    "import matplotlib.pyplot as plt\n",
    "import numpy as np\n",
    "from sklearn.metrics import accuracy_score\n",
    "os.getcwd()"
   ]
  },
  {
   "cell_type": "code",
   "execution_count": 2,
   "metadata": {},
   "outputs": [],
   "source": [
    "transform = transforms.Compose([\n",
    "    transforms.Resize(32),\n",
    "    transforms.Grayscale(num_output_channels=1),\n",
    "    transforms.ToTensor(),\n",
    "    transforms.Normalize((0.5, ), (0.5, ))\n",
    "])"
   ]
  },
  {
   "cell_type": "code",
   "execution_count": 3,
   "metadata": {},
   "outputs": [],
   "source": [
    "batch_size = 4\n",
    "trainset = torchvision.datasets.ImageFolder(root='Data/train', transform=transform)\n",
    "trainloader = torch.utils.data.DataLoader(trainset, batch_size=batch_size, shuffle=True)\n",
    "testset = torchvision.datasets.ImageFolder(root='Data/test', transform=transform)\n",
    "testloader = torch.utils.data.DataLoader(testset, batch_size=batch_size, shuffle=True)\n",
    "classes = ['Positive', 'Negative']"
   ]
  },
  {
   "cell_type": "code",
   "execution_count": 4,
   "metadata": {},
   "outputs": [
    {
     "name": "stdout",
     "output_type": "stream",
     "text": [
      "Positive Negative \n",
      "Negative Negative\n"
     ]
    },
    {
     "data": {
      "image/png": "[encoded data removed]",
      "text/plain": [
       "<Figure size 640x480 with 1 Axes>"
      ]
     },
     "metadata": {},
     "output_type": "display_data"
    }
   ],
   "source": [
    "def imshow(img, lab):\n",
    "    img = img / 2 + 0.5    \n",
    "    npimg = img.numpy()\n",
    "    print(classes[lab[0]], classes[lab[1]],'\\n'+ classes[lab[2]], classes[lab[3]])\n",
    "    plt.imshow(np.transpose(npimg, (1, 2, 0)))\n",
    "    plt.show()\n",
    "\n",
    "\n",
    "dataiter = iter(trainloader)\n",
    "images, labels = next(dataiter)\n",
    "imshow(torchvision.utils.make_grid(images, nrow=2), labels)"
   ]
  },
  {
   "cell_type": "code",
   "execution_count": 5,
   "metadata": {},
   "outputs": [],
   "source": [
    "class ImageClassificationNet(nn.Module):\n",
    "    def __init__(self) -> None:\n",
    "        super().__init__()\n",
    "        self.conv1 = nn.Conv2d(1, 6, 3)\n",
    "        self.pool = nn.MaxPool2d(2, 2)\n",
    "        self.conv2 = nn.Conv2d(6, 16, 3)\n",
    "        self.fc1 = nn.Linear(16 * 6 * 6, 128)\n",
    "        self.fc2 = nn.Linear(128, 64)\n",
    "        self.fc3 = nn.Linear(64, 1)\n",
    "        self.relu = nn.ReLU()\n",
    "        self.sigmoid = nn.Sigmoid()\n",
    "    \n",
    "    def forward(self, x):\n",
    "        x = self.conv1(x)\n",
    "        x = self.relu(x)\n",
    "        x = self.pool(x)\n",
    "        x = self.conv2(x)\n",
    "        x = self.relu(x)\n",
    "        x = self.pool(x)\n",
    "        x = torch.flatten(x, 1)\n",
    "        x = self.fc1(x)\n",
    "        x = self.relu(x)\n",
    "        x = self.fc2(x)\n",
    "        x = self.relu(x)\n",
    "        x = self.fc3(x)\n",
    "        x = self.sigmoid(x)\n",
    "        return x"
   ]
  },
  {
   "cell_type": "code",
   "execution_count": 6,
   "metadata": {},
   "outputs": [],
   "source": [
    "model = ImageClassificationNet()      \n",
    "loss_fn = nn.BCELoss()\n",
    "optimizer = torch.optim.SGD(model.parameters(), lr=0.001, momentum=0.8)"
   ]
  },
  {
   "cell_type": "code",
   "execution_count": 7,
   "metadata": {},
   "outputs": [
    {
     "name": "stdout",
     "output_type": "stream",
     "text": [
      "Epoch 0/10, Step 1/250,Loss: 0.6971\n",
      "Epoch 0/10, Step 101/250,Loss: 0.6966\n",
      "Epoch 0/10, Step 201/250,Loss: 0.6913\n",
      "Epoch 1/10, Step 1/250,Loss: 0.6922\n",
      "Epoch 1/10, Step 101/250,Loss: 0.6879\n",
      "Epoch 1/10, Step 201/250,Loss: 0.6884\n",
      "Epoch 2/10, Step 1/250,Loss: 0.6868\n",
      "Epoch 2/10, Step 101/250,Loss: 0.6805\n",
      "Epoch 2/10, Step 201/250,Loss: 0.6888\n",
      "Epoch 3/10, Step 1/250,Loss: 0.6869\n",
      "Epoch 3/10, Step 101/250,Loss: 0.6862\n",
      "Epoch 3/10, Step 201/250,Loss: 0.6733\n",
      "Epoch 4/10, Step 1/250,Loss: 0.6826\n",
      "Epoch 4/10, Step 101/250,Loss: 0.6752\n",
      "Epoch 4/10, Step 201/250,Loss: 0.6378\n",
      "Epoch 5/10, Step 1/250,Loss: 0.6860\n",
      "Epoch 5/10, Step 101/250,Loss: 0.6565\n",
      "Epoch 5/10, Step 201/250,Loss: 0.6676\n",
      "Epoch 6/10, Step 1/250,Loss: 0.6716\n",
      "Epoch 6/10, Step 101/250,Loss: 0.5213\n",
      "Epoch 6/10, Step 201/250,Loss: 0.4587\n",
      "Epoch 7/10, Step 1/250,Loss: 0.5055\n",
      "Epoch 7/10, Step 101/250,Loss: 0.2478\n",
      "Epoch 7/10, Step 201/250,Loss: 0.0464\n",
      "Epoch 8/10, Step 1/250,Loss: 1.1898\n",
      "Epoch 8/10, Step 101/250,Loss: 0.0914\n",
      "Epoch 8/10, Step 201/250,Loss: 0.0673\n",
      "Epoch 9/10, Step 1/250,Loss: 0.0744\n",
      "Epoch 9/10, Step 101/250,Loss: 0.0508\n",
      "Epoch 9/10, Step 201/250,Loss: 0.3349\n"
     ]
    }
   ],
   "source": [
    "NUM_EPOCHS = 10\n",
    "for epoch in range(NUM_EPOCHS):\n",
    "    for i, data in enumerate(trainloader):\n",
    "        inputs, labels = data\n",
    "        optimizer.zero_grad()\n",
    "        outputs = model(inputs)\n",
    "        \n",
    "        loss = loss_fn(outputs, labels.reshape(-1, 1).float())\n",
    "        loss.backward()\n",
    "        optimizer.step()\n",
    "        if i % 100 == 0:\n",
    "            print(f'Epoch {epoch}/{NUM_EPOCHS}, Step {i+1}/{len(trainloader)},' f'Loss: {loss.item():.4f}')"
   ]
  },
  {
   "cell_type": "code",
   "execution_count": 8,
   "metadata": {},
   "outputs": [],
   "source": [
    "y_test = []\n",
    "y_test_pred = []\n",
    "for i, data in enumerate(testloader):\n",
    "    inputs, y_test_temp = data\n",
    "    with torch.no_grad():\n",
    "        y_test_hat_temp = model(inputs).round()\n",
    "    \n",
    "    y_test.extend(y_test_temp.numpy())\n",
    "    y_test_pred.extend(y_test_hat_temp.numpy())"
   ]
  },
  {
   "cell_type": "code",
   "execution_count": 9,
   "metadata": {},
   "outputs": [
    {
     "name": "stdout",
     "output_type": "stream",
     "text": [
      "Accuracy:  86.33%\n"
     ]
    }
   ],
   "source": [
    "acc = accuracy_score(y_test, y_test_pred)\n",
    "print(f'Accuracy: {acc*100: .2f}%')"
   ]
  },
  {
   "cell_type": "code",
   "execution_count": null,
   "metadata": {},
   "outputs": [],
   "source": []
  }
 ],
 "metadata": {
  "kernelspec": {
   "display_name": "pytorch",
   "language": "python",
   "name": "python3"
  },
  "language_info": {
   "codemirror_mode": {
    "name": "ipython",
    "version": 3
   },
   "file_extension": ".py",
   "mimetype": "text/x-python",
   "name": "python",
   "nbconvert_exporter": "python",
   "pygments_lexer": "ipython3",
   "version": "3.10.14"
  }
 },
 "nbformat": 4,
 "nbformat_minor": 2
}
